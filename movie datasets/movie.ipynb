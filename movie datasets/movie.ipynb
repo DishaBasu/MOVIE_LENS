{
 "cells": [
  {
   "cell_type": "code",
   "execution_count": null,
   "id": "758796b5",
   "metadata": {},
   "outputs": [],
   "source": [
    "import numpy as np\n",
    "import pandas as pd"
   ]
  },
  {
   "cell_type": "code",
   "execution_count": null,
   "id": "983d3cdd",
   "metadata": {},
   "outputs": [],
   "source": [
    "movies=pd.read_csv('tmdb_5000_movies.csv')\n",
    "credit=pd.read_csv('tmdb_5000_credits.csv')"
   ]
  },
  {
   "cell_type": "code",
   "execution_count": null,
   "id": "b9d5fb5d",
   "metadata": {},
   "outputs": [],
   "source": [
    "movies.head()\n",
    "credit.head()"
   ]
  },
  {
   "cell_type": "code",
   "execution_count": null,
   "id": "82e69893",
   "metadata": {},
   "outputs": [],
   "source": [
    "movies.isnull().sum()"
   ]
  },
  {
   "cell_type": "code",
   "execution_count": null,
   "id": "cdce740b",
   "metadata": {},
   "outputs": [],
   "source": [
    "movies.dropna(inplace=True)"
   ]
  },
  {
   "cell_type": "code",
   "execution_count": null,
   "id": "ac81f1bf",
   "metadata": {},
   "outputs": [],
   "source": [
    "movies=movies[['title','genres','keywords','overview','production_companies','release_date','vote_average','vote_count']]\n",
    "credit=credit[['movie_id','cast','crew']]"
   ]
  },
  {
   "cell_type": "code",
   "execution_count": null,
   "id": "b91a92b0",
   "metadata": {},
   "outputs": [],
   "source": [
    "movies.head()\n",
    "credit.head()"
   ]
  },
  {
   "cell_type": "code",
   "execution_count": null,
   "id": "11c74258",
   "metadata": {},
   "outputs": [],
   "source": [
    "original_data=pd.read_csv('tmdb_5000_movies.csv')\n",
    "extracted_fileds=original_data[['title','id']]\n",
    "extracted_fileds.head()"
   ]
  },
  {
   "cell_type": "code",
   "execution_count": null,
   "id": "042ef222",
   "metadata": {},
   "outputs": [],
   "source": [
    "\n",
    "movies=pd.merge(movies, extracted_fileds, on='title',how='left')"
   ]
  },
  {
   "cell_type": "code",
   "execution_count": null,
   "id": "b928ced3",
   "metadata": {},
   "outputs": [],
   "source": [
    "movies[['id']].count()\n",
    "movies.dropna(inplace=True)"
   ]
  },
  {
   "cell_type": "code",
   "execution_count": null,
   "id": "8178a21a",
   "metadata": {},
   "outputs": [],
   "source": [
    "movies.isnull().sum()"
   ]
  },
  {
   "cell_type": "code",
   "execution_count": null,
   "id": "cfa98663",
   "metadata": {},
   "outputs": [],
   "source": [
    "movies=movies[['id','title','genres','keywords','overview','production_companies','vote_average','vote_count']]"
   ]
  },
  {
   "cell_type": "code",
   "execution_count": null,
   "id": "5bac3dbe",
   "metadata": {},
   "outputs": [],
   "source": [
    "movies.head()"
   ]
  },
  {
   "cell_type": "code",
   "execution_count": null,
   "id": "e311a05e",
   "metadata": {},
   "outputs": [],
   "source": [
    "newcredit=pd.read_csv('tmdb_5000_credits.csv')\n",
    "newcredit=newcredit[['movie_id','cast','crew']]\n",
    "newcredit.head()\n",
    "newcredit.isnull().sum()\n",
    "\n"
   ]
  },
  {
   "cell_type": "code",
   "execution_count": null,
   "id": "b7293aa1",
   "metadata": {},
   "outputs": [],
   "source": [
    "movies=movies[['id','title','genres','keywords','overview','production_companies','vote_average','vote_count','cast','crew']]\n",
    "movies.head()"
   ]
  },
  {
   "cell_type": "code",
   "execution_count": null,
   "id": "16cd8985",
   "metadata": {},
   "outputs": [],
   "source": [
    "movies.iloc[0]['genres']\n"
   ]
  },
  {
   "cell_type": "code",
   "execution_count": null,
   "id": "4c2c5ad1",
   "metadata": {},
   "outputs": [],
   "source": [
    "import ast\n",
    "\n",
    "def extract_genres(obj):\n",
    "    int_obj=ast.literal_eval(obj)\n",
    "    list_of_genres = []\n",
    "    for i in int_obj:\n",
    "        list_of_genres.append(i['name'])\n",
    "    return list_of_genres\n",
    "\n",
    "def extract_keywords(keywords):\n",
    "    int_keywords=ast.literal_eval(keywords)\n",
    "    list_of_keywords = []\n",
    "    for i in int_keywords:\n",
    "        list_of_keywords.append(i['name'])\n",
    "    return list_of_keywords\n",
    "\n",
    "def extract_production_companies(production_companies):\n",
    "    new_production_companies=ast.literal_eval(production_companies)\n",
    "    lists = []\n",
    "    for i in new_production_companies:\n",
    "        lists.append(i['name'])\n",
    "    return lists\n",
    "\n",
    "\n"
   ]
  },
  {
   "cell_type": "code",
   "execution_count": null,
   "id": "ea66d7b9",
   "metadata": {},
   "outputs": [],
   "source": [
    "movies['genres']=movies['genres'].apply(extract_genres)"
   ]
  },
  {
   "cell_type": "code",
   "execution_count": null,
   "id": "d836956e",
   "metadata": {},
   "outputs": [],
   "source": [
    "movies['keywords']=movies['keywords'].apply(extract_keywords)"
   ]
  },
  {
   "cell_type": "code",
   "execution_count": null,
   "id": "f4d99713",
   "metadata": {},
   "outputs": [],
   "source": [
    "movies.head()"
   ]
  },
  {
   "cell_type": "code",
   "execution_count": null,
   "id": "9cc92a4b",
   "metadata": {},
   "outputs": [],
   "source": [
    "movies['production_companies']=movies['production_companies'].apply(extract_production_companies)"
   ]
  },
  {
   "cell_type": "code",
   "execution_count": null,
   "id": "a3305353",
   "metadata": {},
   "outputs": [],
   "source": [
    "movies.iloc[0]['cast']"
   ]
  },
  {
   "cell_type": "code",
   "execution_count": null,
   "id": "e905c350",
   "metadata": {},
   "outputs": [],
   "source": [
    "\n",
    "\n",
    "\n",
    "def extract_chars(obj):\n",
    "    # obj=ast.literal_eval(obj)\n",
    "    list_of_chars = []\n",
    "    counter = 0\n",
    "    for i in obj:\n",
    "        if counter == 5:\n",
    "            break\n",
    "        list_of_chars.append(i['name'])\n",
    "        counter += 1\n",
    "\n",
    "    return list_of_chars\n",
    "\n",
    "\n",
    "movies['cast']=movies['cast'].apply(extract_chars)"
   ]
  },
  {
   "cell_type": "code",
   "execution_count": null,
   "id": "4dbceece",
   "metadata": {},
   "outputs": [],
   "source": [
    "movies.iloc[0]['crew']"
   ]
  },
  {
   "cell_type": "code",
   "execution_count": null,
   "id": "5d9e9209",
   "metadata": {},
   "outputs": [],
   "source": [
    "def extract_directors(obj):\n",
    "    obj=ast.literal_eval(obj)\n",
    "    list_of_directors= []\n",
    "    for i in obj:\n",
    "        if i['job']=='Director':\n",
    "            list_of_directors.append(i['name'])\n",
    "    \n",
    "    return list_of_directors\n",
    "\n",
    "\n",
    "movies['crew']=movies['crew'].apply(extract_directors)"
   ]
  },
  {
   "cell_type": "code",
   "execution_count": null,
   "id": "40237b48",
   "metadata": {},
   "outputs": [],
   "source": [
    "movies['cast']=movies['cast'].apply(lambda x: [i.replace(\" \",\"\") for i in x])\n",
    "movies['keywords']=movies['keywords'].apply(lambda x: [i.replace(\" \",\"\") for i in x])\n",
    "movies['crew']=movies['crew'].apply(lambda x: [i.replace(\" \",\"\") for i in x])\n",
    "movies['genres']=movies['cast'].apply(lambda x: [i.replace(\" \",\"\") for i in x])\n",
    "movies['production_companies']=movies['production_companies'].apply(lambda x: [i.replace(\" \",\"\") for i in x])"
   ]
  },
  {
   "cell_type": "code",
   "execution_count": null,
   "id": "8bd66c5a",
   "metadata": {},
   "outputs": [],
   "source": [
    "movies['overview']=movies['overview'].str.split()"
   ]
  },
  {
   "cell_type": "code",
   "execution_count": null,
   "id": "4d0d5e54",
   "metadata": {},
   "outputs": [],
   "source": [
    "movies.head(1)"
   ]
  },
  {
   "cell_type": "code",
   "execution_count": null,
   "id": "0d6deab0",
   "metadata": {},
   "outputs": [],
   "source": [
    "movies['tags']=movies['overview'] + movies['genres'] + movies['keywords'] + movies['production_companies'] + movies['cast'] + movies['crew']"
   ]
  },
  {
   "cell_type": "code",
   "execution_count": null,
   "id": "7114e19d",
   "metadata": {},
   "outputs": [],
   "source": [
    "movies.head(1)"
   ]
  },
  {
   "cell_type": "code",
   "execution_count": null,
   "id": "a90e73ec",
   "metadata": {},
   "outputs": [],
   "source": [
    "new_df=movies[['id','title','tags','vote_average','vote_count']]\n",
    "new_df['tags']=new_df['tags'].apply(lambda x: \" \".join(x))"
   ]
  },
  {
   "cell_type": "code",
   "execution_count": null,
   "id": "96e36cca",
   "metadata": {},
   "outputs": [],
   "source": [
    "new_df.head(1)\n",
    "new_df['tags']=new_df['tags'].apply(lambda x: x.lower())"
   ]
  },
  {
   "cell_type": "code",
   "execution_count": null,
   "id": "423ea4d9",
   "metadata": {},
   "outputs": [],
   "source": [
    "new_df.head()"
   ]
  },
  {
   "cell_type": "code",
   "execution_count": null,
   "id": "1bfebd30",
   "metadata": {},
   "outputs": [],
   "source": []
  },
  {
   "cell_type": "code",
   "execution_count": null,
   "id": "f6015118",
   "metadata": {},
   "outputs": [],
   "source": []
  },
  {
   "cell_type": "code",
   "execution_count": null,
   "id": "1cc9e046",
   "metadata": {},
   "outputs": [],
   "source": []
  }
 ],
 "metadata": {
  "kernelspec": {
   "display_name": "Python 3",
   "language": "python",
   "name": "python3"
  },
  "language_info": {
   "codemirror_mode": {
    "name": "ipython",
    "version": 3
   },
   "file_extension": ".py",
   "mimetype": "text/x-python",
   "name": "python",
   "nbconvert_exporter": "python",
   "pygments_lexer": "ipython3",
   "version": "3.13.4"
  }
 },
 "nbformat": 4,
 "nbformat_minor": 5
}
